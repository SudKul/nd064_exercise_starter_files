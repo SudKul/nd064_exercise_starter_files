{
 "cells": [
  {
   "cell_type": "markdown",
   "metadata": {},
   "source": [
    "Copyright (c) Microsoft Corporation. All rights reserved.\n",
    "\n",
    "Licensed under the MIT License."
   ]
  },
  {
   "cell_type": "markdown",
   "metadata": {},
   "source": [
    "![Impressions](https://PixelServer20190423114238.azurewebsites.net/api/impressions/NotebookVM/how-to-use-azureml/track-and-monitor-experiments/manage-runs/manage-runs.png)"
   ]
  },
  {
   "cell_type": "markdown",
   "metadata": {},
   "source": [
    "# Manage runs\n",
    "\n",
    "## Table of contents\n",
    "\n",
    "1. [Introduction](#Introduction)\n",
    "1. [Setup](#Setup)\n",
    "1. [Start, monitor and complete a run](#Start,-monitor-and-complete-a-run)\n",
    "1. [Add properties and tags](#Add-properties-and-tags)\n",
    "1. [Query properties and tags](#Query-properties-and-tags)\n",
    "1. [Start and query child runs](#Start-and-query-child-runs)\n",
    "1. [Cancel or fail runs](#Cancel-or-fail-runs)\n",
    "1. [Reproduce a run](#Reproduce-a-run)\n",
    "1. [Next steps](#Next-steps)"
   ]
  },
  {
   "cell_type": "markdown",
   "metadata": {},
   "source": [
    "## Introduction\n",
    "\n",
    "When you're building enterprise-grade machine learning models, it is important to track, organize, monitor and reproduce your training runs. For example, you might want to trace the lineage behind a model deployed to production, and re-run the training experiment to troubleshoot issues. \n",
    "\n",
    "This notebooks shows examples how to use Azure Machine Learning services to manage your training runs."
   ]
  },
  {
   "cell_type": "markdown",
   "metadata": {},
   "source": [
    "## Setup\n",
    "\n",
    "If you are using an Azure Machine Learning Notebook VM, you are all set.  Otherwise, go through the [configuration](../../../configuration.ipynb) Notebook first if you haven't already to establish your connection to the AzureML Workspace. Also, if you're new to Azure ML, we recommend that you go through [the tutorial](https://docs.microsoft.com/en-us/azure/machine-learning/service/tutorial-train-models-with-aml) first to learn the basic concepts.\n",
    "\n",
    "Let's first import required packages, check Azure ML SDK version, connect to your workspace and create an Experiment to hold the runs."
   ]
  },
  {
   "cell_type": "code",
   "execution_count": 1,
   "metadata": {},
   "outputs": [
    {
     "name": "stdout",
     "output_type": "stream",
     "text": [
      "1.11.0\n"
     ]
    }
   ],
   "source": [
    "import azureml.core\n",
    "from azureml.core import Workspace, Experiment, Run\n",
    "from azureml.core import ScriptRunConfig\n",
    "\n",
    "print(azureml.core.VERSION)"
   ]
  },
  {
   "cell_type": "code",
   "execution_count": 2,
   "metadata": {},
   "outputs": [],
   "source": [
    "ws = Workspace.from_config()"
   ]
  },
  {
   "cell_type": "code",
   "execution_count": 3,
   "metadata": {},
   "outputs": [],
   "source": [
    "exp = Experiment(workspace=ws, name=\"explore-runs\")"
   ]
  },
  {
   "cell_type": "markdown",
   "metadata": {},
   "source": [
    "## Start, monitor and complete a run\n",
    "\n",
    "A run is an unit of execution, typically to train a model, but for other purposes as well, such as loading or transforming data. Runs are tracked by Azure ML service, and can be instrumented with metrics and artifact logging.\n",
    "\n",
    "A simplest way to start a run in your interactive Python session is to call *Experiment.start_logging* method. You can then log metrics from within the run."
   ]
  },
  {
   "cell_type": "code",
   "execution_count": 4,
   "metadata": {},
   "outputs": [
    {
     "name": "stdout",
     "output_type": "stream",
     "text": [
      "Running\n"
     ]
    }
   ],
   "source": [
    "notebook_run = exp.start_logging()\n",
    "\n",
    "notebook_run.log(name=\"message\", value=\"Hello from run!\")\n",
    "\n",
    "print(notebook_run.get_status())"
   ]
  },
  {
   "cell_type": "markdown",
   "metadata": {},
   "source": [
    "Use *get_status method* to get the status of the run."
   ]
  },
  {
   "cell_type": "code",
   "execution_count": 5,
   "metadata": {},
   "outputs": [
    {
     "name": "stdout",
     "output_type": "stream",
     "text": [
      "Running\n"
     ]
    }
   ],
   "source": [
    "print(notebook_run.get_status())"
   ]
  },
  {
   "cell_type": "markdown",
   "metadata": {},
   "source": [
    "Also, you can simply enter the run to get a link to Azure Portal details"
   ]
  },
  {
   "cell_type": "code",
   "execution_count": 6,
   "metadata": {},
   "outputs": [
    {
     "data": {
      "text/html": [
       "<table style=\"width:100%\"><tr><th>Experiment</th><th>Id</th><th>Type</th><th>Status</th><th>Details Page</th><th>Docs Page</th></tr><tr><td>explore-runs</td><td>105c6721-cd0e-42d2-8493-4f0a4c73656f</td><td></td><td>Running</td><td><a href=\"https://ml.azure.com/experiments/explore-runs/runs/105c6721-cd0e-42d2-8493-4f0a4c73656f?wsid=/subscriptions/a59af59a-605a-4b0e-968f-a30ad6bb7ad5/resourcegroups/cloud-shell-storage-eastus/workspaces/Azure-ML-Workspace\" target=\"_blank\" rel=\"noopener\">Link to Azure Machine Learning studio</a></td><td><a href=\"https://docs.microsoft.com/en-us/python/api/azureml-core/azureml.core.run.Run?view=azure-ml-py\" target=\"_blank\" rel=\"noopener\">Link to Documentation</a></td></tr></table>"
      ],
      "text/plain": [
       "Run(Experiment: explore-runs,\n",
       "Id: 105c6721-cd0e-42d2-8493-4f0a4c73656f,\n",
       "Type: None,\n",
       "Status: Running)"
      ]
     },
     "execution_count": 6,
     "metadata": {},
     "output_type": "execute_result"
    }
   ],
   "source": [
    "notebook_run"
   ]
  },
  {
   "cell_type": "markdown",
   "metadata": {},
   "source": [
    "Method *get_details* gives you more details on the run."
   ]
  },
  {
   "cell_type": "code",
   "execution_count": 7,
   "metadata": {},
   "outputs": [
    {
     "data": {
      "text/plain": [
       "{'runId': '105c6721-cd0e-42d2-8493-4f0a4c73656f',\n",
       " 'target': 'local',\n",
       " 'status': 'Running',\n",
       " 'startTimeUtc': '2020-09-18T13:23:39.232837Z',\n",
       " 'properties': {'ContentSnapshotId': '7fea1eb8-e62e-4f6a-a385-57754405ee01'},\n",
       " 'inputDatasets': [],\n",
       " 'logFiles': {}}"
      ]
     },
     "execution_count": 7,
     "metadata": {},
     "output_type": "execute_result"
    }
   ],
   "source": [
    "notebook_run.get_details()"
   ]
  },
  {
   "cell_type": "markdown",
   "metadata": {},
   "source": [
    "Use *complete* method to end the run."
   ]
  },
  {
   "cell_type": "code",
   "execution_count": 8,
   "metadata": {},
   "outputs": [
    {
     "name": "stdout",
     "output_type": "stream",
     "text": [
      "Completed\n"
     ]
    }
   ],
   "source": [
    "notebook_run.complete()\n",
    "print(notebook_run.get_status())"
   ]
  },
  {
   "cell_type": "markdown",
   "metadata": {},
   "source": [
    "You can also use Python's *with...as* pattern. The run will automatically complete when moving out of scope. This way you don't need to manually complete the run."
   ]
  },
  {
   "cell_type": "code",
   "execution_count": 9,
   "metadata": {},
   "outputs": [
    {
     "name": "stdout",
     "output_type": "stream",
     "text": [
      "Is it still running? Running\n",
      "Has it completed? Completed\n"
     ]
    }
   ],
   "source": [
    "with exp.start_logging() as notebook_run:\n",
    "    notebook_run.log(name=\"message\", value=\"Hello from run!\")\n",
    "    print(\"Is it still running?\",notebook_run.get_status())\n",
    "    \n",
    "print(\"Has it completed?\",notebook_run.get_status())"
   ]
  },
  {
   "cell_type": "markdown",
   "metadata": {},
   "source": [
    "Next, let's look at submitting a run as a separate Python process. To keep the example simple, we submit the run on local computer. Other targets could include remote VMs and Machine Learning Compute clusters in your Azure ML Workspace.\n",
    "\n",
    "We use *hello.py* script as an example. To perform logging, we need to get a reference to the Run instance from within the scope of the script. We do this using *Run.get_context* method."
   ]
  },
  {
   "cell_type": "code",
   "execution_count": 10,
   "metadata": {},
   "outputs": [
    {
     "name": "stdout",
     "output_type": "stream",
     "text": [
      "# Copyright (c) Microsoft. All rights reserved.\r\n",
      "# Licensed under the MIT license.\r\n",
      "\r\n",
      "from azureml.core import Run\r\n",
      "\r\n",
      "submitted_run = Run.get_context()\r\n",
      "submitted_run.log(name=\"message\", value=\"Hello from run!\")\r\n"
     ]
    }
   ],
   "source": [
    "!more hello.py"
   ]
  },
  {
   "cell_type": "markdown",
   "metadata": {},
   "source": [
    "Submitted runs take a snapshot of the *source_directory* to use when executing. You can control which files are available to the run by using an *.amlignore* file."
   ]
  },
  {
   "cell_type": "code",
   "execution_count": 11,
   "metadata": {},
   "outputs": [
    {
     "name": "stdout",
     "output_type": "stream",
     "text": [
      "Writing .amlignore\n"
     ]
    }
   ],
   "source": [
    "%%writefile .amlignore\n",
    "# Exclude the outputs directory automatically created by our earlier runs.\n",
    "/outputs"
   ]
  },
  {
   "cell_type": "markdown",
   "metadata": {},
   "source": [
    "Let's submit the run on a local computer. A standard pattern in Azure ML SDK is to create run configuration, and then use *Experiment.submit* method."
   ]
  },
  {
   "cell_type": "code",
   "execution_count": 12,
   "metadata": {},
   "outputs": [],
   "source": [
    "run_config = ScriptRunConfig(source_directory='.', script='hello.py')\n",
    "\n",
    "local_script_run = exp.submit(run_config)"
   ]
  },
  {
   "cell_type": "markdown",
   "metadata": {},
   "source": [
    "You can view the status of the run as before"
   ]
  },
  {
   "cell_type": "code",
   "execution_count": 13,
   "metadata": {},
   "outputs": [
    {
     "name": "stdout",
     "output_type": "stream",
     "text": [
      "Preparing\n"
     ]
    },
    {
     "data": {
      "text/html": [
       "<table style=\"width:100%\"><tr><th>Experiment</th><th>Id</th><th>Type</th><th>Status</th><th>Details Page</th><th>Docs Page</th></tr><tr><td>explore-runs</td><td>explore-runs_1600435462_6e3e1604</td><td>azureml.scriptrun</td><td>Preparing</td><td><a href=\"https://ml.azure.com/experiments/explore-runs/runs/explore-runs_1600435462_6e3e1604?wsid=/subscriptions/a59af59a-605a-4b0e-968f-a30ad6bb7ad5/resourcegroups/cloud-shell-storage-eastus/workspaces/Azure-ML-Workspace\" target=\"_blank\" rel=\"noopener\">Link to Azure Machine Learning studio</a></td><td><a href=\"https://docs.microsoft.com/en-us/python/api/azureml-core/azureml.core.script_run.ScriptRun?view=azure-ml-py\" target=\"_blank\" rel=\"noopener\">Link to Documentation</a></td></tr></table>"
      ],
      "text/plain": [
       "Run(Experiment: explore-runs,\n",
       "Id: explore-runs_1600435462_6e3e1604,\n",
       "Type: azureml.scriptrun,\n",
       "Status: Preparing)"
      ]
     },
     "execution_count": 13,
     "metadata": {},
     "output_type": "execute_result"
    }
   ],
   "source": [
    "print(local_script_run.get_status())\n",
    "local_script_run"
   ]
  },
  {
   "cell_type": "markdown",
   "metadata": {},
   "source": [
    "Submitted runs have additional log files you can inspect using *get_details_with_logs*."
   ]
  },
  {
   "cell_type": "code",
   "execution_count": 14,
   "metadata": {},
   "outputs": [
    {
     "data": {
      "text/plain": [
       "{'runId': 'explore-runs_1600435462_6e3e1604',\n",
       " 'target': 'local',\n",
       " 'status': 'Preparing',\n",
       " 'properties': {'_azureml.ComputeTargetType': 'local',\n",
       "  'ContentSnapshotId': '654954de-cca6-484b-a4cd-6b0beb85ecd7'},\n",
       " 'inputDatasets': [],\n",
       " 'runDefinition': {'script': 'hello.py',\n",
       "  'scriptType': None,\n",
       "  'useAbsolutePath': False,\n",
       "  'arguments': [],\n",
       "  'sourceDirectoryDataStore': None,\n",
       "  'framework': 'Python',\n",
       "  'communicator': 'None',\n",
       "  'target': 'local',\n",
       "  'dataReferences': {},\n",
       "  'data': {},\n",
       "  'outputData': {},\n",
       "  'jobName': None,\n",
       "  'maxRunDurationSeconds': None,\n",
       "  'nodeCount': 1,\n",
       "  'environment': {'name': 'Experiment explore-runs Environment',\n",
       "   'version': 'Autosave_2020-09-18T13:24:22Z_5b3d1623',\n",
       "   'python': {'interpreterPath': 'python',\n",
       "    'userManagedDependencies': False,\n",
       "    'condaDependencies': {'channels': ['anaconda', 'conda-forge'],\n",
       "     'dependencies': ['python=3.6.2', {'pip': ['azureml-defaults']}],\n",
       "     'name': 'azureml_da3e97fcb51801118b8e80207f3e01ad'},\n",
       "    'baseCondaEnvironment': None},\n",
       "   'environmentVariables': {'EXAMPLE_ENV_VAR': 'EXAMPLE_VALUE'},\n",
       "   'docker': {'baseImage': 'mcr.microsoft.com/azureml/intelmpi2018.3-ubuntu16.04:20200723.v1',\n",
       "    'platform': {'os': 'Linux', 'architecture': 'amd64'},\n",
       "    'baseDockerfile': None,\n",
       "    'baseImageRegistry': {'address': None, 'username': None, 'password': None},\n",
       "    'enabled': False,\n",
       "    'arguments': []},\n",
       "   'spark': {'repositories': [], 'packages': [], 'precachePackages': True},\n",
       "   'inferencingStackVersion': None},\n",
       "  'history': {'outputCollection': True,\n",
       "   'directoriesToWatch': ['logs'],\n",
       "   'enableMLflowTracking': True,\n",
       "   'snapshotProject': True},\n",
       "  'spark': {'configuration': {'spark.app.name': 'Azure ML Experiment',\n",
       "    'spark.yarn.maxAppAttempts': '1'}},\n",
       "  'parallelTask': {'maxRetriesPerWorker': 0,\n",
       "   'workerCountPerNode': 1,\n",
       "   'terminalExitCodes': None,\n",
       "   'configuration': {}},\n",
       "  'amlCompute': {'name': None,\n",
       "   'vmSize': None,\n",
       "   'retainCluster': False,\n",
       "   'clusterMaxNodeCount': None},\n",
       "  'aiSuperComputer': {'instanceType': None,\n",
       "   'frameworkImage': None,\n",
       "   'imageVersion': None,\n",
       "   'location': None},\n",
       "  'tensorflow': {'workerCount': 1, 'parameterServerCount': 1},\n",
       "  'mpi': {'processCountPerNode': 1},\n",
       "  'hdi': {'yarnDeployMode': 'Cluster'},\n",
       "  'containerInstance': {'region': None, 'cpuCores': 2, 'memoryGb': 3.5},\n",
       "  'exposedPorts': None,\n",
       "  'docker': {'useDocker': False,\n",
       "   'sharedVolumes': True,\n",
       "   'shmSize': '2g',\n",
       "   'arguments': []},\n",
       "  'cmk8sCompute': {'configuration': {}},\n",
       "  'cmAksCompute': {'configuration': {}}},\n",
       " 'logFiles': {'azureml-logs/60_control_log.txt': \"[2020-09-18T13:24:24.444685] Using urllib.request Python 3.0 or later\\nStreaming log file azureml-logs/60_control_log.txt\\nStarting the daemon thread to refresh tokens in background for process with pid = 4283\\nRunning: ['/bin/bash', '/tmp/azureml_runs/explore-runs_1600435462_6e3e1604/azureml-environment-setup/conda_env_checker.sh']\\nMaterialized conda environment not found on target: /home/azureuser/.azureml/envs/azureml_da3e97fcb51801118b8e80207f3e01ad\\n\\n\\nLogging experiment preparation status in history service.\\nRunning: ['/bin/bash', '/tmp/azureml_runs/explore-runs_1600435462_6e3e1604/azureml-environment-setup/conda_env_builder.sh']\\nRunning: ['conda', '--version']\\nconda 4.5.12\\n\\nCreating conda environment...\\nRunning: ['conda', 'env', 'create', '-p', '/home/azureuser/.azureml/envs/azureml_da3e97fcb51801118b8e80207f3e01ad', '-f', 'azureml-environment-setup/mutated_conda_dependencies.yml']\\n\"}}"
      ]
     },
     "execution_count": 14,
     "metadata": {},
     "output_type": "execute_result"
    }
   ],
   "source": [
    "local_script_run.get_details_with_logs()"
   ]
  },
  {
   "cell_type": "markdown",
   "metadata": {},
   "source": [
    "Use *wait_for_completion* method to block the local execution until remote run is complete."
   ]
  },
  {
   "cell_type": "code",
   "execution_count": 15,
   "metadata": {},
   "outputs": [
    {
     "name": "stdout",
     "output_type": "stream",
     "text": [
      "RunId: explore-runs_1600435462_6e3e1604\n",
      "Web View: https://ml.azure.com/experiments/explore-runs/runs/explore-runs_1600435462_6e3e1604?wsid=/subscriptions/a59af59a-605a-4b0e-968f-a30ad6bb7ad5/resourcegroups/cloud-shell-storage-eastus/workspaces/Azure-ML-Workspace\n",
      "\n",
      "Streaming azureml-logs/60_control_log.txt\n",
      "=========================================\n",
      "\n",
      "[2020-09-18T13:24:24.444685] Using urllib.request Python 3.0 or later\n",
      "Streaming log file azureml-logs/60_control_log.txt\n",
      "Starting the daemon thread to refresh tokens in background for process with pid = 4283\n",
      "Running: ['/bin/bash', '/tmp/azureml_runs/explore-runs_1600435462_6e3e1604/azureml-environment-setup/conda_env_checker.sh']\n",
      "Materialized conda environment not found on target: /home/azureuser/.azureml/envs/azureml_da3e97fcb51801118b8e80207f3e01ad\n",
      "\n",
      "\n",
      "Logging experiment preparation status in history service.\n",
      "Running: ['/bin/bash', '/tmp/azureml_runs/explore-runs_1600435462_6e3e1604/azureml-environment-setup/conda_env_builder.sh']\n",
      "Running: ['conda', '--version']\n",
      "conda 4.5.12\n",
      "\n",
      "Creating conda environment...\n",
      "Running: ['conda', 'env', 'create', '-p', '/home/azureuser/.azureml/envs/azureml_da3e97fcb51801118b8e80207f3e01ad', '-f', 'azureml-environment-setup/mutated_conda_dependencies.yml']\n",
      "Solving environment: ...working... done\n",
      "\n",
      "\n",
      "==> WARNING: A newer version of conda exists. <==\n",
      "  current version: 4.5.12\n",
      "  latest version: 4.8.4\n",
      "\n",
      "Please update conda by running\n",
      "\n",
      "    $ conda update -n base -c defaults conda\n",
      "\n",
      "\n",
      "\n",
      "Downloading and Extracting Packages\n",
      "ncurses-6.0          | 907 KB    | ########## | 100% \n",
      "setuptools-49.6.0    | 927 KB    | ########## | 100% \n",
      "libffi-3.2.1         | 43 KB     | ########## | 100% \n",
      "python-3.6.2         | 27.0 MB   | ########## | 100% \n",
      "readline-7.0         | 387 KB    | ########## | 100% \n",
      "libedit-3.1          | 171 KB    | ########## | 100% \n",
      "pip-20.2.2           | 2.0 MB    | ########## | 100% \n",
      "wheel-0.35.1         | 36 KB     | ########## | 100% \n",
      "sqlite-3.23.1        | 1.5 MB    | ########## | 100% \n",
      "ca-certificates-2020 | 132 KB    | ########## | 100% \n",
      "openssl-1.0.2u       | 3.1 MB    | ########## | 100% \n",
      "Preparing transaction: ...working... done\n",
      "Verifying transaction: ...working... done\n",
      "Executing transaction: ...working... done\n",
      "Collecting azureml-defaults\n",
      "  Downloading azureml_defaults-1.13.0-py3-none-any.whl (3.0 kB)\n",
      "Collecting gunicorn==19.9.0\n",
      "  Downloading gunicorn-19.9.0-py2.py3-none-any.whl (112 kB)\n",
      "Collecting azureml-dataset-runtime[fuse]~=1.13.0\n",
      "  Downloading azureml_dataset_runtime-1.13.0-py3-none-any.whl (3.2 kB)\n",
      "Collecting werkzeug==0.16.1\n",
      "  Downloading Werkzeug-0.16.1-py2.py3-none-any.whl (327 kB)\n",
      "Collecting azureml-model-management-sdk==1.0.1b6.post1\n",
      "  Downloading azureml_model_management_sdk-1.0.1b6.post1-py2.py3-none-any.whl (130 kB)\n",
      "Collecting configparser==3.7.4\n",
      "  Downloading configparser-3.7.4-py2.py3-none-any.whl (22 kB)\n",
      "Collecting json-logging-py==0.2\n",
      "  Downloading json-logging-py-0.2.tar.gz (3.6 kB)\n",
      "Collecting azureml-core~=1.13.0\n",
      "  Downloading azureml_core-1.13.0-py3-none-any.whl (2.0 MB)\n",
      "Collecting flask==1.0.3\n",
      "  Downloading Flask-1.0.3-py2.py3-none-any.whl (92 kB)\n",
      "Collecting applicationinsights>=0.11.7\n",
      "  Downloading applicationinsights-0.11.9-py2.py3-none-any.whl (58 kB)\n",
      "Collecting azureml-dataprep<2.1.0a,>=2.0.1a\n",
      "  Downloading azureml_dataprep-2.0.10-py3-none-any.whl (28.2 MB)\n",
      "Collecting pyarrow<2.0.0,>=0.17.0\n",
      "  Downloading pyarrow-1.0.1-cp36-cp36m-manylinux2014_x86_64.whl (17.3 MB)\n",
      "Collecting fusepy<4.0.0,>=3.0.1; extra == \"fuse\"\n",
      "  Downloading fusepy-3.0.1.tar.gz (11 kB)\n",
      "Collecting pytz>=2017.2\n",
      "  Downloading pytz-2020.1-py2.py3-none-any.whl (510 kB)\n",
      "Collecting python-dateutil>=2.5.3\n",
      "  Downloading python_dateutil-2.8.1-py2.py3-none-any.whl (227 kB)\n",
      "Collecting pandas>=0.20.2\n",
      "  Downloading pandas-1.1.2-cp36-cp36m-manylinux1_x86_64.whl (10.5 MB)\n",
      "Collecting requests>=2.17.3\n",
      "  Downloading requests-2.24.0-py2.py3-none-any.whl (61 kB)\n",
      "Collecting numpy>=1.13.0\n",
      "  Downloading numpy-1.19.2-cp36-cp36m-manylinux2010_x86_64.whl (14.5 MB)\n",
      "Collecting six>=1.10\n",
      "  Downloading six-1.15.0-py2.py3-none-any.whl (10 kB)\n",
      "Collecting liac-arff>=2.1.1\n",
      "  Downloading liac-arff-2.5.0.tar.gz (13 kB)\n",
      "Collecting dill>=0.2.7.1\n",
      "  Downloading dill-0.3.2.zip (177 kB)\n",
      "Collecting adal>=0.4.5\n",
      "  Downloading adal-1.2.4-py2.py3-none-any.whl (55 kB)\n",
      "Collecting backports.tempfile\n",
      "  Downloading backports.tempfile-1.0-py2.py3-none-any.whl (4.4 kB)\n",
      "Collecting ndg-httpsclient\n",
      "  Downloading ndg_httpsclient-0.5.1-py3-none-any.whl (34 kB)\n",
      "Collecting azure-mgmt-keyvault>=0.40.0\n",
      "  Downloading azure_mgmt_keyvault-7.0.0-py2.py3-none-any.whl (197 kB)\n",
      "Collecting msrest>=0.5.1\n",
      "  Downloading msrest-0.6.19-py2.py3-none-any.whl (84 kB)\n",
      "Collecting pyopenssl\n",
      "  Downloading pyOpenSSL-19.1.0-py2.py3-none-any.whl (53 kB)\n",
      "Collecting docker\n",
      "  Downloading docker-4.3.1-py2.py3-none-any.whl (145 kB)\n",
      "Collecting azure-mgmt-containerregistry>=2.0.0\n",
      "  Downloading azure_mgmt_containerregistry-2.8.0-py2.py3-none-any.whl (718 kB)\n",
      "Collecting msrestazure>=0.4.33\n",
      "  Downloading msrestazure-0.6.4-py2.py3-none-any.whl (40 kB)\n",
      "Collecting azure-mgmt-storage>=1.5.0\n",
      "  Downloading azure_mgmt_storage-16.0.0-py2.py3-none-any.whl (811 kB)\n",
      "Collecting azure-common>=1.1.12\n",
      "  Downloading azure_common-1.1.25-py2.py3-none-any.whl (12 kB)\n",
      "Collecting pathspec\n",
      "  Downloading pathspec-0.8.0-py2.py3-none-any.whl (28 kB)\n",
      "Collecting contextlib2\n",
      "  Downloading contextlib2-0.6.0.post1-py2.py3-none-any.whl (9.8 kB)\n",
      "Collecting cryptography!=1.9,!=2.0.*,!=2.1.*,!=2.2.*\n",
      "  Downloading cryptography-3.1-cp35-abi3-manylinux2010_x86_64.whl (2.6 MB)\n",
      "Collecting SecretStorage\n",
      "  Downloading SecretStorage-3.1.2-py3-none-any.whl (14 kB)\n",
      "Collecting jsonpickle\n",
      "  Downloading jsonpickle-1.4.1-py2.py3-none-any.whl (36 kB)\n",
      "Collecting jmespath\n",
      "  Downloading jmespath-0.10.0-py2.py3-none-any.whl (24 kB)\n",
      "Collecting ruamel.yaml>=0.15.35\n",
      "  Downloading ruamel.yaml-0.16.12-py2.py3-none-any.whl (111 kB)\n",
      "Collecting azure-graphrbac>=0.40.0\n",
      "  Downloading azure_graphrbac-0.61.1-py2.py3-none-any.whl (141 kB)\n",
      "Collecting azure-mgmt-authorization>=0.40.0\n",
      "  Downloading azure_mgmt_authorization-0.61.0-py2.py3-none-any.whl (94 kB)\n",
      "Collecting PyJWT\n",
      "  Downloading PyJWT-1.7.1-py2.py3-none-any.whl (18 kB)\n",
      "Collecting urllib3>=1.23\n",
      "  Downloading urllib3-1.25.10-py2.py3-none-any.whl (127 kB)\n",
      "Collecting azure-mgmt-resource>=1.2.1\n",
      "  Downloading azure_mgmt_resource-15.0.0-py2.py3-none-any.whl (1.6 MB)\n",
      "Collecting itsdangerous>=0.24\n",
      "  Downloading itsdangerous-1.1.0-py2.py3-none-any.whl (16 kB)\n",
      "Collecting Jinja2>=2.10\n",
      "  Downloading Jinja2-2.11.2-py2.py3-none-any.whl (125 kB)\n",
      "Collecting click>=5.1\n",
      "  Downloading click-7.1.2-py2.py3-none-any.whl (82 kB)\n",
      "Collecting azureml-dataprep-native<21.0.0,>=20.1.1\n",
      "  Downloading azureml_dataprep_native-20.1.1-cp36-cp36m-manylinux1_x86_64.whl (11.1 MB)\n",
      "Collecting cloudpickle<2.0.0,>=1.1.0\n",
      "  Downloading cloudpickle-1.6.0-py3-none-any.whl (23 kB)\n",
      "Collecting dotnetcore2<3.0.0,>=2.1.14\n",
      "  Downloading dotnetcore2-2.1.15-py3-none-manylinux1_x86_64.whl (28.7 MB)\n",
      "Collecting azure-identity<1.3.0,>=1.2.0\n",
      "  Downloading azure_identity-1.2.0-py2.py3-none-any.whl (58 kB)\n",
      "Requirement already satisfied: certifi>=2017.4.17 in /home/azureuser/.azureml/envs/azureml_da3e97fcb51801118b8e80207f3e01ad/lib/python3.6/site-packages (from requests>=2.17.3->azureml-model-management-sdk==1.0.1b6.post1->azureml-defaults->-r /tmp/azureml_runs/explore-runs_1600435462_6e3e1604/azureml-environment-setup/condaenv.mikhmmca.requirements.txt (line 1)) (2020.6.20)\n",
      "Collecting idna<3,>=2.5\n",
      "  Downloading idna-2.10-py2.py3-none-any.whl (58 kB)\n",
      "Collecting chardet<4,>=3.0.2\n",
      "  Downloading chardet-3.0.4-py2.py3-none-any.whl (133 kB)\n",
      "Collecting backports.weakref\n",
      "  Downloading backports.weakref-1.0.post1-py2.py3-none-any.whl (5.2 kB)\n",
      "Collecting pyasn1>=0.1.1\n",
      "  Downloading pyasn1-0.4.8-py2.py3-none-any.whl (77 kB)\n",
      "Collecting azure-mgmt-core<2.0.0,>=1.2.0\n",
      "  Downloading azure_mgmt_core-1.2.0-py2.py3-none-any.whl (21 kB)\n",
      "Collecting requests-oauthlib>=0.5.0\n",
      "  Downloading requests_oauthlib-1.3.0-py2.py3-none-any.whl (23 kB)\n",
      "Collecting isodate>=0.6.0\n",
      "  Downloading isodate-0.6.0-py2.py3-none-any.whl (45 kB)\n",
      "Collecting websocket-client>=0.32.0\n",
      "  Downloading websocket_client-0.57.0-py2.py3-none-any.whl (200 kB)\n",
      "Collecting cffi!=1.11.3,>=1.8\n",
      "  Downloading cffi-1.14.2-cp36-cp36m-manylinux1_x86_64.whl (400 kB)\n",
      "Collecting jeepney>=0.4.2\n",
      "  Downloading jeepney-0.4.3-py3-none-any.whl (21 kB)\n",
      "Collecting importlib-metadata\n",
      "  Downloading importlib_metadata-1.7.0-py2.py3-none-any.whl (31 kB)\n",
      "Collecting ruamel.yaml.clib>=0.1.2; platform_python_implementation == \"CPython\" and python_version < \"3.9\"\n",
      "  Downloading ruamel.yaml.clib-0.2.2-cp36-cp36m-manylinux1_x86_64.whl (549 kB)\n",
      "Collecting MarkupSafe>=0.23\n",
      "  Downloading MarkupSafe-1.1.1-cp36-cp36m-manylinux1_x86_64.whl (27 kB)\n",
      "Collecting distro>=1.2.0\n",
      "  Downloading distro-1.5.0-py2.py3-none-any.whl (18 kB)\n",
      "Collecting msal-extensions~=0.1.3\n",
      "  Downloading msal_extensions-0.1.3-py2.py3-none-any.whl (9.0 kB)\n",
      "Collecting azure-core<2.0.0,>=1.0.0\n",
      "  Downloading azure_core-1.8.1-py2.py3-none-any.whl (121 kB)\n",
      "Collecting msal<2.0.0,>=1.0.0\n",
      "  Downloading msal-1.5.0-py2.py3-none-any.whl (49 kB)\n",
      "Collecting oauthlib>=3.0.0\n",
      "  Downloading oauthlib-3.1.0-py2.py3-none-any.whl (147 kB)\n",
      "Collecting pycparser\n",
      "  Downloading pycparser-2.20-py2.py3-none-any.whl (112 kB)\n",
      "Collecting zipp>=0.5\n",
      "  Downloading zipp-3.1.0-py3-none-any.whl (4.9 kB)\n",
      "Collecting portalocker~=1.0\n",
      "  Downloading portalocker-1.7.1-py2.py3-none-any.whl (10 kB)\n",
      "Building wheels for collected packages: json-logging-py, fusepy, liac-arff, dill\n",
      "  Building wheel for json-logging-py (setup.py): started\n",
      "  Building wheel for json-logging-py (setup.py): finished with status 'done'\n",
      "  Created wheel for json-logging-py: filename=json_logging_py-0.2-py3-none-any.whl size=3924 sha256=c11197152f4f759c06b1f33eecb3f970c49957d3d4de4720655761fdafc7b096\n",
      "  Stored in directory: /home/azureuser/.cache/pip/wheels/e2/1d/52/535a274b9c2ce7d4064838f2bdb62013801281ef7d7f21e2ee\n",
      "  Building wheel for fusepy (setup.py): started\n",
      "  Building wheel for fusepy (setup.py): finished with status 'done'\n",
      "  Created wheel for fusepy: filename=fusepy-3.0.1-py3-none-any.whl size=10504 sha256=30cbd278c48cb41a8201702d32b3583ad3c55c44d798499bb5614dbe077ac14b\n",
      "  Stored in directory: /home/azureuser/.cache/pip/wheels/21/5c/83/1dd7e8a232d12227e5410120f4374b33adeb4037473105b079\n",
      "  Building wheel for liac-arff (setup.py): started\n",
      "  Building wheel for liac-arff (setup.py): finished with status 'done'\n",
      "  Created wheel for liac-arff: filename=liac_arff-2.5.0-py3-none-any.whl size=11730 sha256=af66b1db063ccd31e8cf9e89c47148e6b7c80c394df3004148d173ff49f2aeec\n",
      "  Stored in directory: /home/azureuser/.cache/pip/wheels/53/ba/da/8562a6a6dbb428fd1ecc21053106df3948645cd991958f669b\n",
      "  Building wheel for dill (setup.py): started\n",
      "  Building wheel for dill (setup.py): finished with status 'done'\n",
      "  Created wheel for dill: filename=dill-0.3.2-py3-none-any.whl size=78912 sha256=81b69f6a713a9d8594666f63d02d4bef803376f325243d686eb7d637ebe0bfeb\n",
      "  Stored in directory: /home/azureuser/.cache/pip/wheels/02/49/cf/660924cd9bc5fcddc3a0246fe39800c83028d3ccea244de352\n",
      "Successfully built json-logging-py fusepy liac-arff dill\n",
      "Installing collected packages: gunicorn, azureml-dataprep-native, cloudpickle, distro, dotnetcore2, portalocker, PyJWT, urllib3, idna, chardet, requests, msal, msal-extensions, six, azure-core, pycparser, cffi, cryptography, azure-identity, azureml-dataprep, numpy, pyarrow, fusepy, azureml-dataset-runtime, werkzeug, pytz, python-dateutil, pandas, liac-arff, dill, adal, azureml-model-management-sdk, configparser, json-logging-py, backports.weakref, backports.tempfile, pyasn1, pyopenssl, ndg-httpsclient, azure-common, oauthlib, requests-oauthlib, isodate, msrest, azure-mgmt-core, azure-mgmt-keyvault, websocket-client, docker, msrestazure, azure-mgmt-containerregistry, azure-mgmt-storage, pathspec, contextlib2, jeepney, SecretStorage, zipp, importlib-metadata, jsonpickle, jmespath, ruamel.yaml.clib, ruamel.yaml, azure-graphrbac, azure-mgmt-authorization, azure-mgmt-resource, azureml-core, itsdangerous, MarkupSafe, Jinja2, click, flask, applicationinsights, azureml-defaults\n",
      "\n",
      "Streaming azureml-logs/70_driver_log.txt\n",
      "========================================\n",
      "\n",
      "[2020-09-18T13:26:04.103429] Entering context manager injector.\n",
      "[context_manager_injector.py] Command line Options: Namespace(inject=['ProjectPythonPath:context_managers.ProjectPythonPath', 'RunHistory:context_managers.RunHistory', 'TrackUserError:context_managers.TrackUserError'], invocation=['hello.py'])\n",
      "Starting the daemon thread to refresh tokens in background for process with pid = 4990\n",
      "Entering Run History Context Manager.\n",
      "Current directory:  /tmp/azureml_runs/explore-runs_1600435462_6e3e1604\n",
      "Preparing to call script [ hello.py ] with arguments: []\n",
      "After variable expansion, calling script [ hello.py ] with arguments: []\n",
      "\n",
      "Script type = None\n",
      "Starting the daemon thread to refresh tokens in background for process with pid = 4990\n",
      "\n",
      "\n",
      "The experiment completed successfully. Finalizing run...\n",
      "Logging experiment finalizing status in history service.\n",
      "[2020-09-18T13:26:07.011936] TimeoutHandler __init__\n",
      "[2020-09-18T13:26:07.011973] TimeoutHandler __enter__\n",
      "Cleaning up all outstanding Run operations, waiting 300.0 seconds\n",
      "2 items cleaning up...\n",
      "Cleanup took 0.5418858528137207 seconds\n",
      "[2020-09-18T13:26:07.995538] TimeoutHandler __exit__\n",
      "\n",
      "Execution Summary\n",
      "=================\n",
      "RunId: explore-runs_1600435462_6e3e1604\n",
      "Web View: https://ml.azure.com/experiments/explore-runs/runs/explore-runs_1600435462_6e3e1604?wsid=/subscriptions/a59af59a-605a-4b0e-968f-a30ad6bb7ad5/resourcegroups/cloud-shell-storage-eastus/workspaces/Azure-ML-Workspace\n",
      "\n",
      "Completed\n"
     ]
    }
   ],
   "source": [
    "local_script_run.wait_for_completion(show_output=True)\n",
    "print(local_script_run.get_status())"
   ]
  },
  {
   "cell_type": "markdown",
   "metadata": {},
   "source": [
    "## Add properties and tags\n",
    "\n",
    "Properties and tags help you organize your runs. You can use them to describe, for example, who authored the run, what the results were, and what machine learning approach was used. And as you'll later learn, properties and tags can be used to query the history of your runs to find the important ones.\n",
    "\n",
    "For example, let's add \"author\" property to the run:"
   ]
  },
  {
   "cell_type": "code",
   "execution_count": 16,
   "metadata": {},
   "outputs": [
    {
     "name": "stdout",
     "output_type": "stream",
     "text": [
      "{'_azureml.ComputeTargetType': 'local', 'ContentSnapshotId': '654954de-cca6-484b-a4cd-6b0beb85ecd7', 'author': 'azureml-user'}\n"
     ]
    }
   ],
   "source": [
    "local_script_run.add_properties({\"author\":\"azureml-user\"})\n",
    "print(local_script_run.get_properties())"
   ]
  },
  {
   "cell_type": "markdown",
   "metadata": {},
   "source": [
    "Properties are immutable. Once you assign a value it cannot be changed, making them useful as a permanent record for auditing purposes."
   ]
  },
  {
   "cell_type": "code",
   "execution_count": 17,
   "metadata": {},
   "outputs": [
    {
     "name": "stdout",
     "output_type": "stream",
     "text": [
      "ServiceException:\n",
      "\tCode: 400\n",
      "\tMessage: (UserError) Cannot modify existing values in Properties\n",
      "\tDetails:\n",
      "\n",
      "\tHeaders: {\n",
      "\t    \"Date\": \"Fri, 18 Sep 2020 13:26:29 GMT\",\n",
      "\t    \"Content-Type\": \"application/json; charset=utf-8\",\n",
      "\t    \"Transfer-Encoding\": \"chunked\",\n",
      "\t    \"Connection\": \"keep-alive\",\n",
      "\t    \"Request-Context\": \"appId=cid-v1:2d2e8e63-272e-4b3c-8598-4ee570a0e70d\",\n",
      "\t    \"x-ms-response-type\": \"error\",\n",
      "\t    \"x-ms-client-request-id\": \"3e5ca8c3-57b6-4ad5-b15d-c33a4c17b9e6\",\n",
      "\t    \"x-ms-client-session-id\": \"\",\n",
      "\t    \"x-request-time\": \"0.085\",\n",
      "\t    \"Strict-Transport-Security\": \"max-age=15724800; includeSubDomains; preload\"\n",
      "\t}\n",
      "\tInnerException: {\n",
      "    \"additional_properties\": {\n",
      "        \"componentName\": \"run-history\"\n",
      "    },\n",
      "    \"error\": {\n",
      "        \"additional_properties\": {\n",
      "            \"severity\": null\n",
      "        },\n",
      "        \"code\": \"UserError\",\n",
      "        \"message\": \"Cannot modify existing values in Properties\",\n",
      "        \"details_uri\": null,\n",
      "        \"target\": null,\n",
      "        \"details\": [],\n",
      "        \"inner_error\": null,\n",
      "        \"debug_info\": null,\n",
      "        \"message_format\": null,\n",
      "        \"message_parameters\": null,\n",
      "        \"reference_code\": null\n",
      "    },\n",
      "    \"correlation\": {\n",
      "        \"operation\": \"8601ceaa4869af43a548e9a385c05478\",\n",
      "        \"request\": \"278c8a7532992740\"\n",
      "    },\n",
      "    \"environment\": \"eastus\",\n",
      "    \"location\": \"eastus\",\n",
      "    \"time\": {}\n",
      "}\n"
     ]
    }
   ],
   "source": [
    "try:\n",
    "    local_script_run.add_properties({\"author\":\"different-user\"})\n",
    "except Exception as e:\n",
    "    print(e)"
   ]
  },
  {
   "cell_type": "markdown",
   "metadata": {},
   "source": [
    "Tags on the other hand can be changed:"
   ]
  },
  {
   "cell_type": "code",
   "execution_count": 18,
   "metadata": {},
   "outputs": [
    {
     "name": "stdout",
     "output_type": "stream",
     "text": [
      "{'quality': 'great run'}\n"
     ]
    }
   ],
   "source": [
    "local_script_run.tag(\"quality\", \"great run\")\n",
    "print(local_script_run.get_tags())"
   ]
  },
  {
   "cell_type": "code",
   "execution_count": 19,
   "metadata": {},
   "outputs": [
    {
     "name": "stdout",
     "output_type": "stream",
     "text": [
      "{'quality': 'fantastic run'}\n"
     ]
    }
   ],
   "source": [
    "local_script_run.tag(\"quality\", \"fantastic run\")\n",
    "print(local_script_run.get_tags())"
   ]
  },
  {
   "cell_type": "markdown",
   "metadata": {},
   "source": [
    "You can also add a simple string tag. It appears in the tag dictionary with value of None"
   ]
  },
  {
   "cell_type": "code",
   "execution_count": 20,
   "metadata": {},
   "outputs": [
    {
     "name": "stdout",
     "output_type": "stream",
     "text": [
      "{'quality': 'fantastic run', 'worth another look': None}\n"
     ]
    }
   ],
   "source": [
    "local_script_run.tag(\"worth another look\")\n",
    "print(local_script_run.get_tags())"
   ]
  },
  {
   "cell_type": "code",
   "execution_count": 31,
   "metadata": {},
   "outputs": [],
   "source": [
    "### Create your own tag here"
   ]
  },
  {
   "cell_type": "markdown",
   "metadata": {},
   "source": [
    "## Query properties and tags\n",
    "\n",
    "You can query runs within an experiment that match specific properties and tags."
   ]
  },
  {
   "cell_type": "code",
   "execution_count": 21,
   "metadata": {},
   "outputs": [
    {
     "data": {
      "text/plain": [
       "[Run(Experiment: explore-runs,\n",
       " Id: explore-runs_1600435462_6e3e1604,\n",
       " Type: azureml.scriptrun,\n",
       " Status: Completed)]"
      ]
     },
     "execution_count": 21,
     "metadata": {},
     "output_type": "execute_result"
    }
   ],
   "source": [
    "list(exp.get_runs(properties={\"author\":\"azureml-user\"},tags={\"quality\":\"fantastic run\"}))"
   ]
  },
  {
   "cell_type": "code",
   "execution_count": 22,
   "metadata": {
    "scrolled": true
   },
   "outputs": [
    {
     "data": {
      "text/plain": [
       "[]"
      ]
     },
     "execution_count": 22,
     "metadata": {},
     "output_type": "execute_result"
    }
   ],
   "source": [
    "list(exp.get_runs(properties={\"author\":\"azureml-user\"},tags=\"worth another look\"))"
   ]
  },
  {
   "cell_type": "code",
   "execution_count": 32,
   "metadata": {},
   "outputs": [],
   "source": [
    "### Query your own run tag here"
   ]
  },
  {
   "cell_type": "markdown",
   "metadata": {},
   "source": [
    "## Start and query child runs"
   ]
  },
  {
   "cell_type": "markdown",
   "metadata": {},
   "source": [
    "You can use child runs to group together related runs, for example different hyperparameter tuning iterations.\n",
    "\n",
    "Let's use *hello_with_children* script to create a batch of 5 child runs from within a submitted run."
   ]
  },
  {
   "cell_type": "code",
   "execution_count": 23,
   "metadata": {},
   "outputs": [
    {
     "name": "stdout",
     "output_type": "stream",
     "text": [
      "# Copyright (c) Microsoft. All rights reserved.\r\n",
      "# Licensed under the MIT license.\r\n",
      "\r\n",
      "from azureml.core import Run\r\n",
      "\r\n",
      "run = Run.get_context()\r\n",
      "\r\n",
      "child_runs = run.create_children(count=5)\r\n",
      "for c, child in enumerate(child_runs):\r\n",
      "    child.log(name=\"Hello from child run \", value=c)\r\n",
      "    child.complete()\r\n"
     ]
    }
   ],
   "source": [
    "!more hello_with_children.py"
   ]
  },
  {
   "cell_type": "code",
   "execution_count": 24,
   "metadata": {},
   "outputs": [
    {
     "name": "stdout",
     "output_type": "stream",
     "text": [
      "RunId: explore-runs_1600435591_c46bb743\n",
      "Web View: https://ml.azure.com/experiments/explore-runs/runs/explore-runs_1600435591_c46bb743?wsid=/subscriptions/a59af59a-605a-4b0e-968f-a30ad6bb7ad5/resourcegroups/cloud-shell-storage-eastus/workspaces/Azure-ML-Workspace\n",
      "\n",
      "Streaming azureml-logs/70_driver_log.txt\n",
      "========================================\n",
      "\n",
      "[2020-09-18T13:26:34.432454] Entering context manager injector.\n",
      "[context_manager_injector.py] Command line Options: Namespace(inject=['ProjectPythonPath:context_managers.ProjectPythonPath', 'RunHistory:context_managers.RunHistory', 'TrackUserError:context_managers.TrackUserError'], invocation=['hello_with_children.py'])\n",
      "Starting the daemon thread to refresh tokens in background for process with pid = 5222\n",
      "Entering Run History Context Manager.\n",
      "Current directory:  /tmp/azureml_runs/explore-runs_1600435591_c46bb743\n",
      "Preparing to call script [ hello_with_children.py ] with arguments: []\n",
      "After variable expansion, calling script [ hello_with_children.py ] with arguments: []\n",
      "\n",
      "Script type = None\n",
      "Starting the daemon thread to refresh tokens in background for process with pid = 5222\n",
      "\n",
      "\n",
      "The experiment completed successfully. Finalizing run...\n",
      "Logging experiment finalizing status in history service.\n",
      "[2020-09-18T13:26:39.412967] TimeoutHandler __init__\n",
      "[2020-09-18T13:26:39.413003] TimeoutHandler __enter__\n",
      "Cleaning up all outstanding Run operations, waiting 300.0 seconds\n",
      "7 items cleaning up...\n",
      "Cleanup took 0.5548157691955566 seconds\n",
      "[2020-09-18T13:26:40.332220] TimeoutHandler __exit__\n",
      "\n",
      "Execution Summary\n",
      "=================\n",
      "RunId: explore-runs_1600435591_c46bb743\n",
      "Web View: https://ml.azure.com/experiments/explore-runs/runs/explore-runs_1600435591_c46bb743?wsid=/subscriptions/a59af59a-605a-4b0e-968f-a30ad6bb7ad5/resourcegroups/cloud-shell-storage-eastus/workspaces/Azure-ML-Workspace\n",
      "\n",
      "Completed\n"
     ]
    }
   ],
   "source": [
    "run_config = ScriptRunConfig(source_directory='.', script='hello_with_children.py')\n",
    "\n",
    "local_script_run = exp.submit(run_config)\n",
    "local_script_run.wait_for_completion(show_output=True)\n",
    "print(local_script_run.get_status())"
   ]
  },
  {
   "cell_type": "markdown",
   "metadata": {},
   "source": [
    "You can start child runs one by one. Note that this is less efficient than submitting a batch of runs, because each creation results in a network call.\n",
    "\n",
    "Child runs too complete automatically as they move out of scope."
   ]
  },
  {
   "cell_type": "code",
   "execution_count": 25,
   "metadata": {},
   "outputs": [],
   "source": [
    "with exp.start_logging() as parent_run:\n",
    "    for c,count in enumerate(range(5)):\n",
    "        with parent_run.child_run() as child:\n",
    "            child.log(name=\"Hello from child run\", value=c)"
   ]
  },
  {
   "cell_type": "markdown",
   "metadata": {},
   "source": [
    "To query the child runs belonging to specific parent, use *get_children* method."
   ]
  },
  {
   "cell_type": "code",
   "execution_count": 26,
   "metadata": {},
   "outputs": [
    {
     "data": {
      "text/plain": [
       "[Run(Experiment: explore-runs,\n",
       " Id: f3f2b488-6995-4e4b-bc58-8baa5b268076,\n",
       " Type: None,\n",
       " Status: Completed),\n",
       " Run(Experiment: explore-runs,\n",
       " Id: 71487d51-4447-47d4-bd4e-367d3e5eaa94,\n",
       " Type: None,\n",
       " Status: Completed),\n",
       " Run(Experiment: explore-runs,\n",
       " Id: f588db61-c593-4a68-af75-fd53693c31d2,\n",
       " Type: None,\n",
       " Status: Completed),\n",
       " Run(Experiment: explore-runs,\n",
       " Id: 0326b6ca-0c26-407a-b791-479a95568273,\n",
       " Type: None,\n",
       " Status: Completed),\n",
       " Run(Experiment: explore-runs,\n",
       " Id: c6381210-0aaa-4d4a-a6da-4280d95b1f87,\n",
       " Type: None,\n",
       " Status: Completed)]"
      ]
     },
     "execution_count": 26,
     "metadata": {},
     "output_type": "execute_result"
    }
   ],
   "source": [
    "list(parent_run.get_children())"
   ]
  },
  {
   "cell_type": "markdown",
   "metadata": {},
   "source": [
    "## Cancel or fail runs\n",
    "\n",
    "Sometimes, you realize that the run is not performing as intended, and you want to cancel it instead of waiting for it to complete.\n",
    "\n",
    "As an example, let's create a Python script with a delay in the middle."
   ]
  },
  {
   "cell_type": "code",
   "execution_count": 27,
   "metadata": {},
   "outputs": [
    {
     "name": "stdout",
     "output_type": "stream",
     "text": [
      "# Copyright (c) Microsoft. All rights reserved.\r\n",
      "# Licensed under the MIT license.\r\n",
      "\r\n",
      "import time\r\n",
      "\r\n",
      "print(\"Wait for 10 seconds..\")\r\n",
      "time.sleep(10)\r\n",
      "print(\"Done waiting\")\r\n"
     ]
    }
   ],
   "source": [
    "!more hello_with_delay.py"
   ]
  },
  {
   "cell_type": "markdown",
   "metadata": {},
   "source": [
    "You can use *cancel* method to cancel a run."
   ]
  },
  {
   "cell_type": "code",
   "execution_count": 28,
   "metadata": {},
   "outputs": [
    {
     "name": "stdout",
     "output_type": "stream",
     "text": [
      "Did the run start? Running\n",
      "Did the run cancel? Canceled\n"
     ]
    }
   ],
   "source": [
    "run_config = ScriptRunConfig(source_directory='.', script='hello_with_delay.py')\n",
    "\n",
    "local_script_run = exp.submit(run_config)\n",
    "print(\"Did the run start?\",local_script_run.get_status())\n",
    "local_script_run.cancel()\n",
    "print(\"Did the run cancel?\",local_script_run.get_status())"
   ]
  },
  {
   "cell_type": "markdown",
   "metadata": {},
   "source": [
    "You can also mark an unsuccessful run as failed."
   ]
  },
  {
   "cell_type": "code",
   "execution_count": 29,
   "metadata": {},
   "outputs": [
    {
     "name": "stdout",
     "output_type": "stream",
     "text": [
      "Failed\n"
     ]
    }
   ],
   "source": [
    "local_script_run = exp.submit(run_config)\n",
    "local_script_run.fail()\n",
    "print(local_script_run.get_status())"
   ]
  },
  {
   "cell_type": "markdown",
   "metadata": {},
   "source": [
    "## Reproduce a run\n",
    "\n",
    "When updating or troubleshooting on a model deployed to production, you sometimes need to revisit the original training run that produced the model. To help you with this, Azure ML service by default creates snapshots of your scripts a the time of run submission:\n",
    "\n",
    "You can use *restore_snapshot* to obtain a zip package of the latest snapshot of the script folder. "
   ]
  },
  {
   "cell_type": "code",
   "execution_count": 30,
   "metadata": {},
   "outputs": [
    {
     "data": {
      "text/plain": [
       "'/mnt/batch/tasks/shared/LS_root/mounts/clusters/jupyter-demo/code/Users/udacityinsructor1/manage-runs/snapshots/ca5c615e-0de6-4ddc-bc1e-7db8a62553ae.zip'"
      ]
     },
     "execution_count": 30,
     "metadata": {},
     "output_type": "execute_result"
    }
   ],
   "source": [
    "local_script_run.restore_snapshot(path=\"snapshots\")"
   ]
  },
  {
   "cell_type": "markdown",
   "metadata": {},
   "source": [
    "You can then extract the zip package, examine the code, and submit your run again."
   ]
  },
  {
   "cell_type": "markdown",
   "metadata": {},
   "source": [
    "## Next steps\n",
    "\n",
    " * To learn more about logging APIs, see [logging API notebook](./logging-api/logging-api.ipynb)\n",
    " * To learn more about remote runs, see [train on AML compute notebook](./train-on-amlcompute/train-on-amlcompute.ipynb)"
   ]
  },
  {
   "cell_type": "code",
   "execution_count": null,
   "metadata": {},
   "outputs": [],
   "source": []
  }
 ],
 "metadata": {
  "authors": [
   {
    "name": "roastala"
   }
  ],
  "categories": [
   "how-to-use-azureml",
   "track-and-monitor-experiments"
  ],
  "category": "training",
  "compute": [
   "Local"
  ],
  "datasets": [
   "None"
  ],
  "deployment": [
   "None"
  ],
  "exclude_from_index": false,
  "framework": [
   "None"
  ],
  "friendly_name": "Managing your training runs",
  "index_order": 2,
  "kernelspec": {
   "display_name": "Python 3.6 - AzureML",
   "language": "python",
   "name": "python3-azureml"
  },
  "language_info": {
   "codemirror_mode": {
    "name": "ipython",
    "version": 3
   },
   "file_extension": ".py",
   "mimetype": "text/x-python",
   "name": "python",
   "nbconvert_exporter": "python",
   "pygments_lexer": "ipython3",
   "version": "3.6.9"
  },
  "tags": [
   "None"
  ],
  "task": "Monitor and complete runs"
 },
 "nbformat": 4,
 "nbformat_minor": 2
}
